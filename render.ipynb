{
 "cells": [
  {
   "cell_type": "code",
   "execution_count": null,
   "id": "fb930686",
   "metadata": {},
   "outputs": [],
   "source": [
    "# 1. Run `source setpath.sh` first!\n",
    "# 2. Remember to enable `packet_rgb_double` in the config\n",
    "import os\n",
    "import mitsuba\n",
    "mitsuba.set_variant('packet_rgb_double')"
   ]
  },
  {
   "cell_type": "code",
   "execution_count": null,
   "id": "eff4f7bc",
   "metadata": {},
   "outputs": [],
   "source": [
    "from mitsuba.core import FileStream\n",
    "from mitsuba.render import Integrator\n",
    "from mitsuba.core import Thread\n",
    "from mitsuba.core import Bitmap\n",
    "from mitsuba.core import Struct\n",
    "from mitsuba.core import LogLevel\n",
    "from mitsuba.core import xml\n",
    "from mitsuba.core.xml import load_file"
   ]
  },
  {
   "cell_type": "code",
   "execution_count": null,
   "id": "adcbc3fc",
   "metadata": {},
   "outputs": [],
   "source": [
    "def render_to_jpg(src_file, dst_file, sensor_idx=0):\n",
    "    src_file, dst_file = str(src_file), str(dst_file)\n",
    "    if not src_file.endswith(\".xml\"):\n",
    "        raise ValueError(\"src_file must be .xml\")\n",
    "    if not dst_file.endswith(\".jpg\") and not dst_file.endswith(\".png\"):\n",
    "        raise ValueError(\"dst_file must be .jpg\")\n",
    "    \n",
    "    # Load the scene for an XML file\n",
    "    Thread.thread().logger().set_error_level(LogLevel.Error)\n",
    "    Thread.thread().file_resolver().append(os.path.dirname(src_file))\n",
    "    scene = load_file(src_file)\n",
    "    \n",
    "    # Get the scene's sensor (if many, can pick one by specifying the index)\n",
    "    num_sensors = len(scene.sensors())\n",
    "    if sensor_idx >= num_sensors:\n",
    "        raise ValueError(f\"num_sensors={num_sensors}, sensor_idx={sensor_idx} is invalid\")\n",
    "    else:\n",
    "        print(f\"num_sensors={num_sensors}, selected={sensor_idx}\")\n",
    "    sensor = scene.sensors()[sensor_idx]\n",
    "    \n",
    "    # Call the scene's integrator to render the loaded scene with the desired sensor\n",
    "    scene.integrator().render(scene, sensor)\n",
    "    \n",
    "    # The rendered data is stored in the film\n",
    "    film = sensor.film()\n",
    "    img = film.bitmap(raw=True).convert(Bitmap.PixelFormat.RGB, Struct.Type.UInt8, srgb_gamma=True)\n",
    "    img.write(dst_file)\n",
    "    print(f\"Image written to {dst_file}\")"
   ]
  },
  {
   "cell_type": "code",
   "execution_count": null,
   "id": "66532677",
   "metadata": {},
   "outputs": [],
   "source": [
    "src_file = \"resources/data/scenes/cbox/cbox-rgb.xml\"\n",
    "dst_file = \"resources/data/scenes/cbox/cbox-rgb.png\"\n",
    "render_to_jpg(src_file, dst_file)"
   ]
  }
 ],
 "metadata": {
  "kernelspec": {
   "display_name": "Python 3",
   "language": "python",
   "name": "python3"
  },
  "language_info": {
   "codemirror_mode": {
    "name": "ipython",
    "version": 3
   },
   "file_extension": ".py",
   "mimetype": "text/x-python",
   "name": "python",
   "nbconvert_exporter": "python",
   "pygments_lexer": "ipython3",
   "version": "3.8.10"
  }
 },
 "nbformat": 4,
 "nbformat_minor": 5
}
