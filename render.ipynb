{
 "cells": [
  {
   "cell_type": "code",
   "execution_count": null,
   "id": "455d0da3",
   "metadata": {},
   "outputs": [],
   "source": [
    "import os\n",
    "import mitsuba\n",
    "mitsuba.set_variant('scalar_rgb')"
   ]
  },
  {
   "cell_type": "code",
   "execution_count": null,
   "id": "eecc50bc",
   "metadata": {},
   "outputs": [],
   "source": [
    "from mitsuba.core import FileStream\n",
    "from mitsuba.render import Integrator\n",
    "from mitsuba.core import Thread\n",
    "from mitsuba.core.xml import load_file\n",
    "from mitsuba.core import Bitmap, Struct"
   ]
  },
  {
   "cell_type": "code",
   "execution_count": null,
   "id": "a4a6260a",
   "metadata": {},
   "outputs": [],
   "source": [
    "# Load the scene for an XML file\n",
    "filename = \"resources/data/scenes/cbox/cbox-rgb.xml\"\n",
    "Thread.thread().file_resolver().append(os.path.dirname(filename))\n",
    "scene = load_file(filename)"
   ]
  },
  {
   "cell_type": "code",
   "execution_count": null,
   "id": "dc7eea97",
   "metadata": {},
   "outputs": [],
   "source": [
    "# Get the scene's sensor (if many, can pick one by specifying the index)\n",
    "sensor = scene.sensors()[0]"
   ]
  },
  {
   "cell_type": "code",
   "execution_count": null,
   "id": "140aaf03",
   "metadata": {},
   "outputs": [],
   "source": [
    "# Call the scene's integrator to render the loaded scene with the desired sensor\n",
    "scene.integrator().render(scene, sensor)"
   ]
  },
  {
   "cell_type": "code",
   "execution_count": null,
   "id": "2067c001",
   "metadata": {},
   "outputs": [],
   "source": [
    "# The rendered data is stored in the film\n",
    "film = sensor.film()\n",
    "img = film.bitmap(raw=True).convert(Bitmap.PixelFormat.RGB, Struct.Type.UInt8, srgb_gamma=True)\n",
    "img.write('resources/data/scenes/cbox/cbox-rgb.jpg')"
   ]
  },
  {
   "cell_type": "code",
   "execution_count": null,
   "id": "65d56187",
   "metadata": {},
   "outputs": [],
   "source": []
  }
 ],
 "metadata": {
  "kernelspec": {
   "display_name": "Python 3",
   "language": "python",
   "name": "python3"
  },
  "language_info": {
   "codemirror_mode": {
    "name": "ipython",
    "version": 3
   },
   "file_extension": ".py",
   "mimetype": "text/x-python",
   "name": "python",
   "nbconvert_exporter": "python",
   "pygments_lexer": "ipython3",
   "version": "3.8.10"
  }
 },
 "nbformat": 4,
 "nbformat_minor": 5
}
